{
 "cells": [
  {
   "attachments": {},
   "cell_type": "markdown",
   "metadata": {},
   "source": [
    "### Imports"
   ]
  },
  {
   "cell_type": "code",
   "execution_count": 1,
   "metadata": {},
   "outputs": [],
   "source": [
    "import pandas as pd\n",
    "import matplotlib.pyplot as plt\n",
    "import numpy as np\n",
    "import torch\n",
    "import seaborn as sns\n",
    "import math\n",
    "import os"
   ]
  },
  {
   "cell_type": "code",
   "execution_count": 2,
   "metadata": {},
   "outputs": [],
   "source": [
    "os.environ[\"KMP_DUPLICATE_LIB_OK\"] = \"True\"\n",
    "\n",
    "df = pd.read_csv(r\"CSE575-HW03-Data.csv\", header=None)\n",
    "x = np.array(df)"
   ]
  },
  {
   "attachments": {},
   "cell_type": "markdown",
   "metadata": {},
   "source": [
    "## K-Means Clustering"
   ]
  },
  {
   "cell_type": "code",
   "execution_count": 3,
   "metadata": {},
   "outputs": [],
   "source": [
    "class KMeansClustering:\n",
    "    def __init__(self, no_of_clusters=5) -> None:\n",
    "        self.no_of_clusters = no_of_clusters\n",
    "        self.centroids = None\n",
    "\n",
    "    def fit_transform(self, X, no_of_iterations=20):\n",
    "        size = X.shape[0]\n",
    "        x_max = X.max(dim=0)[0].unsqueeze(1)\n",
    "        x_min = X.min(dim=0)[0].unsqueeze(1)\n",
    "\n",
    "        dists = torch.zeros((size, self.no_of_clusters))\n",
    "        best_loss = 1e5\n",
    "        pred = None\n",
    "\n",
    "        for _ in range(no_of_iterations):\n",
    "            centroids = (x_min - x_max) * torch.rand((X.shape[1], self.no_of_clusters)) + x_max\n",
    "            old_loss = -1\n",
    "            while 1:\n",
    "                for i in range(self.no_of_clusters):\n",
    "                    ctr = centroids[:, i].unsqueeze(1)\n",
    "                    dists[:, i] = (X - ctr.T).pow(2).sum(dim=1).sqrt()\n",
    "                dists_min, labels = dists.min(dim=1)\n",
    "\n",
    "                for i in range(self.no_of_clusters):\n",
    "                    idx = torch.where(labels == i)[0]\n",
    "                    if len(idx) == 0:\n",
    "                        continue\n",
    "                    \n",
    "                    centroids[:, i] = X[idx].mean(dim=0)\n",
    "                \n",
    "                new_loss = dists_min.sum()\n",
    "                if old_loss == new_loss:\n",
    "                    break\n",
    "                old_loss = new_loss\n",
    "\n",
    "            if new_loss < best_loss:\n",
    "                best_loss = new_loss\n",
    "                pred = labels\n",
    "            \n",
    "            return pred"
   ]
  },
  {
   "attachments": {},
   "cell_type": "markdown",
   "metadata": {},
   "source": [
    "## Gaussian Mixture"
   ]
  },
  {
   "cell_type": "code",
   "execution_count": 7,
   "metadata": {},
   "outputs": [],
   "source": [
    "class GaussianMixture():\n",
    "\tdef __init__(self, no_of_components, no_of_iterations):\n",
    "\t\tself.no_of_components = no_of_components\n",
    "\t\tself.no_of_iterations = no_of_iterations\n",
    "\n",
    "\tdef gaussian_likelihood(self, X, n):\n",
    "\t\ttwo_pi = torch.tensor(2 * math.pi, dtype=torch.float64)\n",
    "\t\tfact = 1 / torch.sqrt(torch.pow(two_pi, X.shape[0]) * torch.det(self.sigma[n]))\n",
    "\n",
    "\t\tX_minus_mu = X - self.mu[n].T\n",
    "\t\tsigma_inv = torch.inverse(self.sigma[n])\n",
    "\t\treturn fact * torch.exp(-0.5 * X_minus_mu.mm(sigma_inv).mm(X_minus_mu.T))\n",
    "\n",
    "\tdef e_step(self, X):\n",
    "\t\tfor i in range(self.no_of_components):\n",
    "\t\t\tfor j in range(self.no_of_samples):\n",
    "\t\t\t\tself.likelihoods[j, i] = self.gaussian_likelihood(X[j], i)\n",
    "\n",
    "\t\tprob_num = self.priors.T * self.likelihoods\n",
    "\t\tprob_den = prob_num.sum(dim=1).unsqueeze(1)\n",
    "\t\tself.probs = prob_num / prob_den\n",
    "\n",
    "\tdef m_step(self, X):\n",
    "\t\tfor j in range(self.no_of_components):\n",
    "\t\t\tprobs_j = self.probs[:, j]\n",
    "\t\t\tprobs_j_sum = probs_j.sum()\n",
    "\t\t\tself.priors[j] = probs_j.sum() / self.no_of_samples\n",
    "\n",
    "\t\t\tprobs_j_uns = probs_j.unsqueeze(1)\n",
    "\t\t\tself.mu[j] = (probs_j_uns * X).sum(dim=0).unsqueeze(1)\n",
    "\t\t\tself.mu[j] /= probs_j_sum\n",
    "\n",
    "\t\t\tX_minus_mu = X - self.mu[j].T\n",
    "\t\t\tself.sigma[j].fill_(0.)\n",
    "\t\t\tfor i in range(self.no_of_samples):\n",
    "\t\t\t\trow = X_minus_mu[i, :].unsqueeze(1)\n",
    "\t\t\t\tself.sigma[j] += probs_j[i] * row.mm(row.T)\n",
    "\t\t\tself.sigma[j] /= probs_j_sum\n",
    "\n",
    "\tdef fit_predict(self, X):\n",
    "\t\tself.no_of_samples = X.shape[0]\n",
    "\t\tself.no_of_features = X.shape[1]\n",
    "\n",
    "\t\tself.sigma = torch.zeros((self.no_of_components, self.no_of_features, self.no_of_features), dtype=torch.float64)\n",
    "\t\tself.mu = torch.zeros((self.no_of_components, self.no_of_features, 1), dtype=torch.float64)\n",
    "\t\tself.priors = torch.zeros((self.no_of_components, 1), dtype=torch.float64).fill_(1 / self.no_of_components)\n",
    "\n",
    "\t\tkms = KMeansClustering(no_of_clusters=self.no_of_components)\n",
    "\t\tpred = kms.fit_transform(X).unsqueeze(1)\n",
    "\t\tself.probs = torch.zeros(self.no_of_samples, self.no_of_components)\n",
    "\t\tself.probs.scatter_(1, pred, 1)\n",
    "\n",
    "\t\tX_m = X - X.mean()\n",
    "\t\tX_cov = X_m.T.mm(X_m)\n",
    "\t\tfor j in range(self.no_of_components):\n",
    "\t\t\tself.sigma[j] = X_cov.clone()\n",
    "\t\t\tself.mu[j] = X[torch.randint(0, self.no_of_samples, (1,))].T\n",
    "\n",
    "\t\tself.likelihoods = torch.zeros((self.no_of_samples, self.no_of_components), dtype=torch.float64)\n",
    "\n",
    "\t\tself.m_step(X)\n",
    "\t\tfor _ in range(self.no_of_iterations):\n",
    "\t\t\tself.e_step(X)\n",
    "\t\t\tself.m_step(X)\n",
    "\n",
    "\t\treturn self.probs.argmax(dim=1)"
   ]
  },
  {
   "attachments": {},
   "cell_type": "markdown",
   "metadata": {},
   "source": [
    "### Plot"
   ]
  },
  {
   "cell_type": "code",
   "execution_count": 8,
   "metadata": {},
   "outputs": [
    {
     "data": {
      "text/plain": [
       "<Axes: xlabel='0', ylabel='1'>"
      ]
     },
     "execution_count": 8,
     "metadata": {},
     "output_type": "execute_result"
    },
    {
     "data": {
      "image/png": "[encoded data removed]",
      "text/plain": [
       "<Figure size 900x700 with 1 Axes>"
      ]
     },
     "metadata": {},
     "output_type": "display_data"
    }
   ],
   "source": [
    "X = torch.from_numpy(x).float()\n",
    "gmm = GaussianMixture(no_of_components=2, no_of_iterations=3)\n",
    "pred_gmm = gmm.fit_predict(X)\n",
    "plt.figure(figsize=(9, 7))\n",
    "sns.scatterplot(data=df, x=0, y=1, hue=gmm.fit_predict(X), palette=[\"red\", \"blue\"])"
   ]
  }
 ],
 "metadata": {
  "kernelspec": {
   "display_name": "Python 3",
   "language": "python",
   "name": "python3"
  },
  "language_info": {
   "codemirror_mode": {
    "name": "ipython",
    "version": 3
   },
   "file_extension": ".py",
   "mimetype": "text/x-python",
   "name": "python",
   "nbconvert_exporter": "python",
   "pygments_lexer": "ipython3",
   "version": "3.11.2"
  },
  "orig_nbformat": 4
 },
 "nbformat": 4,
 "nbformat_minor": 2
}
