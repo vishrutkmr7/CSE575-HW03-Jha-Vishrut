{
 "cells": [
  {
   "attachments": {},
   "cell_type": "markdown",
   "metadata": {},
   "source": [
    "### Imports\n"
   ]
  },
  {
   "cell_type": "code",
   "execution_count": null,
   "metadata": {},
   "outputs": [],
   "source": [
    "from __future__ import division\n",
    "import numpy as np\n",
    "import pandas as pd\n",
    "import struct, gzip\n",
    "import matplotlib.pyplot as plt\n",
    "import os\n",
    "\n",
    "os.environ[\"KMP_DUPLICATE_LIB_OK\"] = \"True\"\n"
   ]
  },
  {
   "cell_type": "code",
   "execution_count": null,
   "metadata": {},
   "outputs": [],
   "source": [
    "def read_idx(filename):\n",
    "    with gzip.open(filename, \"rb\") as f:\n",
    "        zero, data_type, dims = struct.unpack(\">HBB\", f.read(4))\n",
    "        shape = tuple(struct.unpack(\">I\", f.read(4))[0] for _ in range(dims))\n",
    "        return np.frombuffer(f.read(), dtype=np.uint8).reshape(shape)\n"
   ]
  },
  {
   "attachments": {},
   "cell_type": "markdown",
   "metadata": {},
   "source": [
    "### Analyzing the data\n"
   ]
  },
  {
   "cell_type": "code",
   "execution_count": null,
   "metadata": {},
   "outputs": [],
   "source": [
    "raw_train_images = read_idx(r\"train-images-idx3-ubyte.gz\")\n",
    "train_data = np.reshape(raw_train_images, (60000, 28 * 28))\n",
    "train_labels = read_idx(r\"train-labels-idx1-ubyte.gz\")\n",
    "\n",
    "raw_test_images = read_idx(r\"t10k-images-idx3-ubyte.gz\")\n",
    "test_data = np.reshape(raw_test_images, (10000, 28 * 28))\n",
    "test_labels = read_idx(r\"t10k-labels-idx1-ubyte.gz\")\n",
    "\n",
    "# no_train = 6000\n",
    "no_test = 10000\n",
    "split = 60000  # Train/Test split at location 60000\n",
    "\n",
    "X_train, y_train = train_data, train_labels\n",
    "X_test, y_test = test_data, test_labels\n",
    "\n",
    "# Dataframes for train and test data\n",
    "df_train = pd.DataFrame(X_train)\n",
    "df_test = pd.DataFrame(X_test)\n"
   ]
  },
  {
   "cell_type": "code",
   "execution_count": null,
   "metadata": {},
   "outputs": [],
   "source": [
    "def distance(x, y):\n",
    "    # Euclidean distance\n",
    "    return np.sqrt(np.sum((x - y) ** 2))\n",
    "\n",
    "\n",
    "k_values = [1, 3, 5, 10, 20, 30, 40, 50, 60]\n",
    "\n",
    "\n",
    "def set_predictions(df_t, test, train_predictions):\n",
    "    distances = []\n",
    "    index_counter = []\n",
    "    predictions = [[] for _ in range(len(k_values))]\n",
    "\n",
    "    loop = no_test if test else split\n",
    "\n",
    "    for i in range(loop):\n",
    "        vector_1 = df_t.iloc[i]\n",
    "\n",
    "        for j in range(split):\n",
    "            vector = df_test.iloc[j] if test else df_train.iloc[j]\n",
    "            distances.append(distance(vector_1, vector))\n",
    "            index_counter.append(j)\n",
    "\n",
    "    results = {\"index\": index_counter, \"distance\": distances}\n",
    "    df = pd.DataFrame(results, columns=[\"index\", \"distance\"])\n",
    "    df_sorted = df.sort_values(by=[\"distance\"])\n",
    "\n",
    "    for K, k_value in enumerate(k_values):\n",
    "        index_list = list(df_sorted[\"index\"][:k_value])\n",
    "        dist = list(df_sorted[\"distance\"][:k_value])\n",
    "        res_list = (\n",
    "            [train_predictions[K][i] for i in index_list]\n",
    "            if test\n",
    "            else [y_train[i] for i in index_list]\n",
    "        )\n",
    "        prediction = max(res_list, key=res_list.count)\n",
    "        predictions[K].append(prediction)\n",
    "\n",
    "    return predictions\n"
   ]
  },
  {
   "cell_type": "code",
   "execution_count": null,
   "metadata": {},
   "outputs": [],
   "source": [
    "train_predictions = set_predictions(df_train, False, [])\n",
    "pred_lists = set_predictions(df_test, True, train_predictions)\n",
    "\n",
    "prediction = 0\n",
    "prediction_result = []\n",
    "\n",
    "for K, k_value in enumerate(k_values):\n",
    "    for l1, l2 in zip(pred_lists[K], y_test.tolist()):\n",
    "        if l1 == l2:\n",
    "            prediction += 1\n",
    "\n",
    "    accuracy = prediction / no_test\n",
    "    prediction_result.append((round(accuracy * 100, 2)))\n",
    "    print(f\"The accuracy is {str(accuracy * 100)}% for K={str(k_value)}\")\n",
    "    prediction = 0"
   ]
  },
  {
   "attachments": {},
   "cell_type": "markdown",
   "metadata": {},
   "source": [
    "### Result plots\n"
   ]
  },
  {
   "cell_type": "code",
   "execution_count": null,
   "metadata": {},
   "outputs": [],
   "source": [
    "df_result = pd.DataFrame()\n",
    "df_result[\"K value\"] = k_values\n",
    "df_result[\"pred\"] = prediction_result\n",
    "\n",
    "plt.plot(df_result[\"K value\"], df_result[\"pred\"], \"g\", label=\"pred\")\n",
    "plt.xlabel(\"K value\")\n",
    "plt.ylabel(\"Accuracy (%)\")\n",
    "plt.plot(k_values, accuracy, \"X-\", color=\"b\")\n",
    "plt.xlabel(\"k values\")\n",
    "plt.ylabel(\"Accuracy\")\n",
    "plt.xticks(k_values)\n",
    "plt.show()\n"
   ]
  }
 ],
 "metadata": {
  "kernelspec": {
   "display_name": "Python 3",
   "language": "python",
   "name": "python3"
  },
  "language_info": {
   "codemirror_mode": {
    "name": "ipython",
    "version": 3
   },
   "file_extension": ".py",
   "mimetype": "text/x-python",
   "name": "python",
   "nbconvert_exporter": "python",
   "pygments_lexer": "ipython3",
   "version": "3.11.2"
  },
  "orig_nbformat": 4
 },
 "nbformat": 4,
 "nbformat_minor": 2
}
